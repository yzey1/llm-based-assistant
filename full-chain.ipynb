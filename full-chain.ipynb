{
 "cells": [
  {
   "cell_type": "code",
   "execution_count": 1,
   "metadata": {},
   "outputs": [],
   "source": [
    "import os\n",
    "import logging\n",
    "import pandas as pd\n",
    "from langchain_ollama.llms import OllamaLLM\n",
    "from langchain_core.messages import HumanMessage, SystemMessage\n",
    "from langchain_core.prompts import ChatPromptTemplate, FewShotChatMessagePromptTemplate\n",
    "from langchain_community.utilities import SQLDatabase\n",
    "from langchain_ollama import OllamaEmbeddings\n",
    "from langchain_core.vectorstores import InMemoryVectorStore\n",
    "from langchain_community.docstore.in_memory import InMemoryDocstore\n",
    "from langchain_community.vectorstores import FAISS\n",
    "import faiss\n",
    "\n",
    "\n",
    "# Define database connection parameters\n",
    "\n",
    "db_user = \"root\"\n",
    "db_password = \"q1w2e3r4\"\n",
    "db_host = \"localhost\"\n",
    "db_name = \"llm_asst\"\n",
    "\n",
    "# get primary key of table\n",
    "tbl_pk = {\"Schedules\": \"schedule_id\", \"RecurringSchedules\": \"recurring_schedule_id\", \"Memos\": \"memo_id\"}\n",
    "\n",
    "# models to load\n",
    "\n",
    "llm = OllamaLLM(model=\"llama3.1\")\n",
    "embeddings = OllamaEmbeddings(model=\"nomic-embed-text\",)\n",
    "faiss_db = FAISS.load_local(\"faiss\", embeddings, allow_dangerous_deserialization=True)\n",
    "\n",
    "semantic_search_k = 3"
   ]
  },
  {
   "cell_type": "code",
   "execution_count": 2,
   "metadata": {},
   "outputs": [],
   "source": [
    "input_query = \"when is the team discussion?\""
   ]
  },
  {
   "cell_type": "code",
   "execution_count": 3,
   "metadata": {},
   "outputs": [
    {
     "name": "stdout",
     "output_type": "stream",
     "text": [
      "mysql\n",
      "['Memos', 'RecurringSchedules', 'Schedules', 'Users']\n"
     ]
    }
   ],
   "source": [
    "# Database connection\n",
    "\n",
    "# db = SQLDatabase.from_uri(\"sqlite:///nba_roster.db\", sample_rows_in_table_info=0)\n",
    "db = SQLDatabase.from_uri(f\"mysql+pymysql://{db_user}:{db_password}@{db_host}/{db_name}\")\n",
    "\n",
    "print(db.dialect)\n",
    "print(db.get_usable_table_names())\n"
   ]
  },
  {
   "cell_type": "code",
   "execution_count": 15,
   "metadata": {},
   "outputs": [
    {
     "data": {
      "text/plain": [
       "\"Query: 'when is the team discussion?'\\nIntent: query Schedules\""
      ]
     },
     "execution_count": 15,
     "metadata": {},
     "output_type": "execute_result"
    }
   ],
   "source": [
    "# intent identification\n",
    "\n",
    "intent_examples = pd.read_csv('intent_fewshot.csv')\n",
    "intent_list = \", \".join(intent_examples.intent.unique())\n",
    "\n",
    "# few-shot prompt\n",
    "fs_intent_template = \"\"\"\n",
    "Determine the operation type and table from the user queries below. Use only the following candidates: operation types (create, delete, update, query) and tables (Schedules, RecurringSchedules, Memos).\n",
    "---\n",
    "Example:\n",
    "\n",
    "Query: 'Please remove my appointment from the schedule.'\n",
    "Intent: delete Schedules\n",
    "Query: 'Update the weekly team meeting to 11 AM.'\n",
    "Intent: update RecurringSchedules\n",
    "Query: 'Create a note for my presentation next week.'\n",
    "Intent: create Memos\n",
    "Query: 'Can you show my upcoming events?'\n",
    "Intent: query Schedules\n",
    "\n",
    "---\n",
    "Reply ONE of the following: \"\"\"+ intent_list + \"\"\"\n",
    "If no intent from the list is found, respond with: \"Intent not found.\"\n",
    "User Query: {input}\n",
    "Intent:\"\n",
    "\n",
    "\"\"\"\n",
    "\n",
    "intent_messages = [(\"system\", fs_intent_template), (\"human\", \"{input}\")]\n",
    "intent_prompt = ChatPromptTemplate.from_messages(intent_messages)\n",
    "intent_chain = intent_prompt | llm\n",
    "\n",
    "intent = intent_chain.invoke({\"input\": input_query})\n",
    "intent"
   ]
  },
  {
   "cell_type": "code",
   "execution_count": 16,
   "metadata": {},
   "outputs": [],
   "source": [
    "# process the intent\n",
    "\n",
    "if \"\\nIntent:\" in intent:\n",
    "    intent = intent.split(\"\\nIntent:\")[1].strip()\n",
    "elif \"Intent not found.\" in intent:\n",
    "    intent = \"Intent not found.\"\n",
    "else:\n",
    "    intent = intent.strip()\n",
    "    \n",
    "intent_operation, intent_table = intent.split(\" \")"
   ]
  },
  {
   "cell_type": "code",
   "execution_count": 17,
   "metadata": {},
   "outputs": [
    {
     "data": {
      "text/plain": [
       "'query'"
      ]
     },
     "execution_count": 17,
     "metadata": {},
     "output_type": "execute_result"
    }
   ],
   "source": [
    "intent_operation"
   ]
  },
  {
   "cell_type": "code",
   "execution_count": 18,
   "metadata": {},
   "outputs": [],
   "source": [
    "# semantic search\n",
    "\n",
    "retrieved_docs = faiss_db.similarity_search(input_query, \n",
    "                                            filter={\"tbl_name\": intent_table},\n",
    "                                            k=semantic_search_k)\n",
    "\n",
    "# get the primary key of the retrieved documents in the metadata\n",
    "retrieved_id = [doc.metadata[tbl_pk[intent_table]] for doc in retrieved_docs]"
   ]
  },
  {
   "cell_type": "code",
   "execution_count": 21,
   "metadata": {},
   "outputs": [
    {
     "data": {
      "text/plain": [
       "'SELECT * FROM `Schedules` WHERE schedule_id IN (5, 2, 1)'"
      ]
     },
     "execution_count": 21,
     "metadata": {},
     "output_type": "execute_result"
    }
   ],
   "source": [
    "\n",
    "sys_prompt = \"\"\"Given an input question, convert it to an SQL query. No preamble. No explanation. Just the SQL query.\n",
    "\n",
    "The database schema is as follows:\n",
    "{schema}\n",
    "\n",
    "\"\"\"\n",
    "\n",
    "human_prompt = \"\"\"\n",
    "\n",
    "The original request from user is: {user_query}.\n",
    "The operation type should be: {intent_operation}.\n",
    "The table should be: {intent_table}.\n",
    "The {pk} of the relevant records is: {retrieved_ids}.\n",
    "\n",
    "Give a SQL statement:\n",
    "\n",
    "\"\"\"\n",
    "\n",
    "messages = [(\"system\", sys_prompt), (\"human\", human_prompt)]\n",
    "prompt = ChatPromptTemplate.from_messages(messages)\n",
    "chain = prompt | llm\n",
    "\n",
    "sql_statement = chain.invoke({\"schema\": db.get_table_info(),\"user_query\": input_query, \n",
    "                \"intent_operation\": intent_operation, \"intent_table\": intent_table, \n",
    "                \"pk\": tbl_pk[intent_table], \"retrieved_ids\": retrieved_id})\n",
    "sql_statement"
   ]
  },
  {
   "cell_type": "code",
   "execution_count": 22,
   "metadata": {},
   "outputs": [
    {
     "data": {
      "text/plain": [
       "\"[(1, 1, 'Project Kickoff', 'Kickoff meeting for the new project with stakeholders.', datetime.datetime(2024, 10, 30, 9, 0), datetime.datetime(2024, 10, 30, 10, 30), datetime.datetime(2024, 10, 23, 9, 43, 49)), (2, 1, 'Lunch with Client', 'Discuss project requirements over lunch.', datetime.datetime(2024, 10, 31, 12, 0), datetime.datetime(2024, 10, 31, 13, 0), datetime.datetime(2024, 10, 23, 9, 43, 49)), (5, 1, 'Weekly Team Meeting', 'Discuss project updates and blockers.', datetime.datetime(2024, 11, 2, 10, 0), datetime.datetime(2024, 11, 2, 11, 0), datetime.datetime(2024, 10, 23, 9, 43, 49))]\""
      ]
     },
     "execution_count": 22,
     "metadata": {},
     "output_type": "execute_result"
    }
   ],
   "source": [
    "response = db.run(sql_statement)\n",
    "response"
   ]
  },
  {
   "cell_type": "code",
   "execution_count": 23,
   "metadata": {},
   "outputs": [
    {
     "name": "stdout",
     "output_type": "stream",
     "text": [
      "The team discussion you're referring to is actually scheduled for this Friday. There is one record in our schedules database that matches your question. The \"Weekly Team Meeting\" is scheduled from 10am to 11am on November 2nd.\n",
      "\n",
      "Would you like me to remind you about it or add any other tasks related to the team discussion?\n"
     ]
    }
   ],
   "source": [
    "sys_prompt2 = \"\"\"\n",
    "\n",
    "You are a personal assistant for task management. \n",
    "User's Question is: {question}\n",
    "\n",
    "You have access to a database with the following schema:\n",
    "    Table Schema: {schema}\n",
    "You have checked the database by running the following SQL query:\n",
    "    SQL Query: {query}\n",
    "You have received the following response:\n",
    "    SQL Response: {response}\n",
    "    \n",
    "Write a natural language answer to the user's question based on the information above.\n",
    "(if there are multiple records, please provide a summary and introduce each record briefly)\n",
    "\"\"\"\n",
    "\n",
    "human_prompt2 = \"\"\"\n",
    "    User's Question is: {question}\n",
    "\"\"\"\n",
    "\n",
    "messages2 = [(\"system\", sys_prompt2), (\"human\", human_prompt2)]\n",
    "prompt2 = ChatPromptTemplate.from_messages(messages2)\n",
    "chain2 = prompt2 | llm\n",
    "\n",
    "\n",
    "final_response = chain2.invoke({\"schema\": db.get_table_info([intent_table]),\"question\": input_query, \n",
    "                \"query\": sql_statement, \"response\": response})\n",
    "print(final_response)"
   ]
  },
  {
   "cell_type": "code",
   "execution_count": 28,
   "metadata": {},
   "outputs": [
    {
     "name": "stdout",
     "output_type": "stream",
     "text": [
      "* Running on local URL:  http://127.0.0.1:7864\n",
      "* Running on public URL: https://3350097a92043f8e5a.gradio.live\n",
      "\n",
      "This share link expires in 72 hours. For free permanent hosting and GPU upgrades, run `gradio deploy` from the terminal in the working directory to deploy to Hugging Face Spaces (https://huggingface.co/spaces)\n"
     ]
    },
    {
     "data": {
      "text/html": [
       "<div><iframe src=\"https://3350097a92043f8e5a.gradio.live\" width=\"100%\" height=\"500\" allow=\"autoplay; camera; microphone; clipboard-read; clipboard-write;\" frameborder=\"0\" allowfullscreen></iframe></div>"
      ],
      "text/plain": [
       "<IPython.core.display.HTML object>"
      ]
     },
     "metadata": {},
     "output_type": "display_data"
    },
    {
     "data": {
      "text/plain": []
     },
     "execution_count": 28,
     "metadata": {},
     "output_type": "execute_result"
    }
   ],
   "source": [
    "# gradio for web interface(multi-turn conversation)\n",
    "\n",
    "import gradio as gr\n",
    "\n",
    "def chat(user_input, history):\n",
    "    if not history:\n",
    "        history = []\n",
    "    else:\n",
    "        history = history.split(\"\\n\")\n",
    "    \n",
    "    intent = intent_chain.invoke({\"input\": user_input})\n",
    "    # intent = intent.lower()\n",
    "    if \"intent not found\" in intent.lower():\n",
    "        return llm.invoke(user_input)\n",
    "        \n",
    "    elif \"\\nIntent:\" in intent:\n",
    "        intent = intent.split(\"\\nIntent:\")[1].strip()\n",
    "    else:\n",
    "        intent = intent.strip()\n",
    "        \n",
    "    # intent_operation, intent_table = intent.split(\" \")\n",
    "    intent_operation, intent_table = \"query\", \"Schedules\"\n",
    "    \n",
    "    retrieved_docs = faiss_db.similarity_search(user_input, \n",
    "                                                filter={\"tbl_name\": intent_table},\n",
    "                                                k=semantic_search_k)\n",
    "    retrieved_id = [doc.metadata[tbl_pk[intent_table]] for doc in retrieved_docs]\n",
    "    \n",
    "    sql_statement = chain.invoke({\"schema\": db.get_table_info(),\"user_query\": user_input,\n",
    "                                    \"intent_operation\": intent_operation, \"intent_table\": intent_table, \n",
    "                                    \"pk\": tbl_pk[intent_table], \"retrieved_ids\": retrieved_id})\n",
    "    try:\n",
    "        response = db.run(sql_statement)\n",
    "    except:\n",
    "        response = \"No records found.\"\n",
    "        \n",
    "    final_response = chain2.invoke({\"schema\": db.get_table_info([intent_table]),\"question\": user_input,\n",
    "                                    \"query\": sql_statement, \"response\": response})\n",
    "    # history.append(f\"User: {user_input}\")\n",
    "    # history.append(f\"Assistant: {final_response}\")\n",
    "    \n",
    "    return final_response\n",
    "    \n",
    "    # retrieved_docs = faiss_db.similarity_search(user_input,\n",
    "    # return response\n",
    "\n",
    "# chatbot = gr.Chatbot(height=300)\n",
    "iface = gr.ChatInterface(fn=chat, type=\"messages\")\n",
    "\n",
    "iface.launch(share=True)"
   ]
  },
  {
   "cell_type": "code",
   "execution_count": null,
   "metadata": {},
   "outputs": [],
   "source": []
  }
 ],
 "metadata": {
  "kernelspec": {
   "display_name": "llm-asst",
   "language": "python",
   "name": "python3"
  },
  "language_info": {
   "codemirror_mode": {
    "name": "ipython",
    "version": 3
   },
   "file_extension": ".py",
   "mimetype": "text/x-python",
   "name": "python",
   "nbconvert_exporter": "python",
   "pygments_lexer": "ipython3",
   "version": "3.10.15"
  }
 },
 "nbformat": 4,
 "nbformat_minor": 2
}
