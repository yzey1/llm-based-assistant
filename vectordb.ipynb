{
 "cells": [
  {
   "cell_type": "code",
   "execution_count": 1,
   "metadata": {},
   "outputs": [],
   "source": [
    "from langchain_ollama import OllamaEmbeddings\n",
    "from langchain_core.vectorstores import InMemoryVectorStore\n",
    "\n",
    "embeddings = OllamaEmbeddings(model=\"nomic-embed-text\",)"
   ]
  },
  {
   "cell_type": "markdown",
   "metadata": {},
   "source": [
    "# Example"
   ]
  },
  {
   "cell_type": "code",
   "execution_count": 2,
   "metadata": {},
   "outputs": [
    {
     "data": {
      "text/plain": [
       "'LangChain is the framework for building context-aware reasoning applications'"
      ]
     },
     "execution_count": 2,
     "metadata": {},
     "output_type": "execute_result"
    }
   ],
   "source": [
    "# Create a vector store with a sample text\n",
    "\n",
    "text = \"LangChain is the framework for building context-aware reasoning applications\"\n",
    "\n",
    "vectorstore = InMemoryVectorStore.from_texts([text], embedding=embeddings)\n",
    "\n",
    "# Use the vectorstore as a retriever\n",
    "retriever = vectorstore.as_retriever()\n",
    "\n",
    "# Retrieve the most similar text\n",
    "retrieved_documents = retriever.invoke(\"What is LangChain?\")\n",
    "\n",
    "# show the retrieved document's content\n",
    "retrieved_documents[0].page_content"
   ]
  },
  {
   "cell_type": "markdown",
   "metadata": {},
   "source": [
    "# Load Data"
   ]
  },
  {
   "cell_type": "code",
   "execution_count": 1,
   "metadata": {},
   "outputs": [],
   "source": [
    "import pandas as pd\n",
    "\n",
    "tbl_names = [\"Schedules\", \"RecurringSchedules\", \"Memos\"]\n",
    "tbl_pk = {\"Schedules\": \"schedule_id\", \"RecurringSchedules\": \"recurring_schedule_id\", \"Memos\": \"memo_id\"}\n",
    "tbls = {tbl_name: pd.read_csv(f\"{tbl_name}.csv\") for tbl_name in tbl_names}\n"
   ]
  },
  {
   "cell_type": "markdown",
   "metadata": {},
   "source": [
    "# Create Vector Database"
   ]
  },
  {
   "cell_type": "code",
   "execution_count": 2,
   "metadata": {},
   "outputs": [],
   "source": [
    "from langchain_chroma import Chroma\n",
    "from langchain_core.documents import Document\n",
    "from langchain_ollama import OllamaEmbeddings\n",
    "from langchain_core.vectorstores import InMemoryVectorStore\n",
    "from langchain_community.docstore.in_memory import InMemoryDocstore\n",
    "from langchain_community.vectorstores import FAISS\n",
    "\n",
    "import faiss\n",
    "from langchain_community.vectorstores import FAISS\n",
    "\n",
    "\n",
    "embeddings = OllamaEmbeddings(model=\"nomic-embed-text\",)\n",
    "\n",
    "def create_documents(tbl_name, tbl):\n",
    "    docs = []\n",
    "    for idx, row in tbl.iterrows():\n",
    "        if tbl_name==\"Memos\":\n",
    "            doc = Document(\n",
    "                # page_id=row[tbl_pk[tbl_name]],\n",
    "                page_content=row[\"content\"],\n",
    "                metadata={tbl_pk[tbl_name]: row[tbl_pk[tbl_name]],\"tbl_name\": tbl_name}\n",
    "            )\n",
    "        elif tbl_name in [\"Schedules\", \"RecurringSchedules\"]:\n",
    "            doc = Document(\n",
    "                # page_id=row[tbl_pk[tbl_name]],\n",
    "                page_title=row[\"title\"],\n",
    "                page_content=row[\"description\"],\n",
    "                metadata={tbl_pk[tbl_name]: row[tbl_pk[tbl_name]],\"tbl_name\": tbl_name}\n",
    "            )\n",
    "        docs.append(doc)\n",
    "    \n",
    "    return docs\n",
    "    \n"
   ]
  },
  {
   "cell_type": "code",
   "execution_count": 3,
   "metadata": {},
   "outputs": [],
   "source": [
    "chroma_db = Chroma(\n",
    "    embedding_function=embeddings,\n",
    "    persist_directory='chroma'\n",
    ")\n",
    "\n",
    "index = faiss.IndexFlatL2(len(embeddings.embed_query(\"hello world\")))\n",
    "\n",
    "faiss_db = FAISS(\n",
    "    embedding_function=embeddings,\n",
    "    index=index,\n",
    "    docstore= InMemoryDocstore(),\n",
    "    index_to_docstore_id={}\n",
    ")\n",
    "\n",
    "for tbl_name in tbl_names:\n",
    "    docs = create_documents(tbl_name, tbls[tbl_name])\n",
    "    faiss_db.add_documents(docs)\n",
    "    chroma_db.add_documents(docs)\n",
    "    \n",
    "faiss_db.save_local(\"faiss\")\n"
   ]
  },
  {
   "cell_type": "code",
   "execution_count": 4,
   "metadata": {},
   "outputs": [
    {
     "name": "stdout",
     "output_type": "stream",
     "text": [
      "* [SIM=0.731714] Prepare slides for the upcoming presentation next week. [{'memo_id': 1, 'tbl_name': 'Memos'}]\n",
      "* [SIM=0.859489] Prepare slides for the upcoming conference. [{'schedule_id': 8, 'tbl_name': 'Schedules'}]\n",
      "* [SIM=1.034088] Kickoff meeting for the new project with stakeholders. [{'schedule_id': 1, 'tbl_name': 'Schedules'}]\n",
      "* [SIM=1.035572] Discuss project requirements over lunch. [{'schedule_id': 2, 'tbl_name': 'Schedules'}]\n",
      "* [SIM=1.070581] Schedule a meeting with the finance team. [{'memo_id': 8, 'tbl_name': 'Memos'}]\n"
     ]
    }
   ],
   "source": [
    "# search for similar documents\n",
    "\n",
    "test_query = \"presentation ppt\"\n",
    "results = chroma_db.similarity_search_with_score(\n",
    "    test_query,\n",
    "    k=5,\n",
    ")\n",
    "\n",
    "for res, score in results:\n",
    "    print(f\"* [SIM={score:2f}] {res.page_content} [{res.metadata}]\")"
   ]
  },
  {
   "cell_type": "code",
   "execution_count": 5,
   "metadata": {},
   "outputs": [
    {
     "name": "stdout",
     "output_type": "stream",
     "text": [
      "* [SIM=0.731714] Prepare slides for the upcoming presentation next week. [{'memo_id': 1, 'tbl_name': 'Memos'}]\n",
      "* [SIM=0.859489] Prepare slides for the upcoming conference. [{'schedule_id': 8, 'tbl_name': 'Schedules'}]\n",
      "* [SIM=1.034088] Kickoff meeting for the new project with stakeholders. [{'schedule_id': 1, 'tbl_name': 'Schedules'}]\n",
      "* [SIM=1.035572] Discuss project requirements over lunch. [{'schedule_id': 2, 'tbl_name': 'Schedules'}]\n",
      "* [SIM=1.070581] Schedule a meeting with the finance team. [{'memo_id': 8, 'tbl_name': 'Memos'}]\n"
     ]
    }
   ],
   "source": [
    "# search for similar documents\n",
    "\n",
    "test_query = \"presentation ppt\"\n",
    "results = faiss_db.similarity_search_with_score(test_query,k=5,)\n",
    "\n",
    "for res, score in results:\n",
    "    print(f\"* [SIM={score:2f}] {res.page_content} [{res.metadata}]\")\n"
   ]
  },
  {
   "cell_type": "code",
   "execution_count": 6,
   "metadata": {},
   "outputs": [
    {
     "name": "stdout",
     "output_type": "stream",
     "text": [
      "* [SIM=0.743619] Casual lunch with the team. [{'recurring_schedule_id': 6, 'tbl_name': 'RecurringSchedules'}]\n",
      "* [SIM=0.789572] Discuss project updates and blockers. [{'schedule_id': 5, 'tbl_name': 'Schedules'}]\n",
      "* [SIM=0.830579] Schedule a meeting with the finance team. [{'memo_id': 8, 'tbl_name': 'Memos'}]\n",
      "* [SIM=0.875572] Discuss project requirements over lunch. [{'schedule_id': 2, 'tbl_name': 'Schedules'}]\n",
      "* [SIM=0.880702] Check in with the new team member this week. [{'memo_id': 4, 'tbl_name': 'Memos'}]\n"
     ]
    }
   ],
   "source": [
    "# search for similar documents\n",
    "\n",
    "test_query = \"team discussion\"\n",
    "results = chroma_db.similarity_search_with_score(test_query,k=5,)\n",
    "\n",
    "for res, score in results:\n",
    "    print(f\"* [SIM={score:2f}] {res.page_content} [{res.metadata}]\")"
   ]
  },
  {
   "cell_type": "code",
   "execution_count": 9,
   "metadata": {},
   "outputs": [
    {
     "name": "stdout",
     "output_type": "stream",
     "text": [
      "* [SIM=0.744] Casual lunch with the team. [{'recurring_schedule_id': 6, 'tbl_name': 'RecurringSchedules'}]\n",
      "* [SIM=0.790] Discuss project updates and blockers. [{'schedule_id': 5, 'tbl_name': 'Schedules'}]\n",
      "* [SIM=0.831] Schedule a meeting with the finance team. [{'memo_id': 8, 'tbl_name': 'Memos'}]\n",
      "* [SIM=0.876] Discuss project requirements over lunch. [{'schedule_id': 2, 'tbl_name': 'Schedules'}]\n",
      "* [SIM=0.881] Check in with the new team member this week. [{'memo_id': 4, 'tbl_name': 'Memos'}]\n"
     ]
    }
   ],
   "source": [
    "test_query = \"team discussion\"\n",
    "results = faiss_db.similarity_search_with_score(test_query,k=5,)\n",
    "for res, score in results:\n",
    "    print(f\"* [SIM={score:.3f}] {res.page_content} [{res.metadata}]\")"
   ]
  },
  {
   "cell_type": "code",
   "execution_count": null,
   "metadata": {},
   "outputs": [],
   "source": []
  }
 ],
 "metadata": {
  "kernelspec": {
   "display_name": "llm-asst",
   "language": "python",
   "name": "python3"
  },
  "language_info": {
   "codemirror_mode": {
    "name": "ipython",
    "version": 3
   },
   "file_extension": ".py",
   "mimetype": "text/x-python",
   "name": "python",
   "nbconvert_exporter": "python",
   "pygments_lexer": "ipython3",
   "version": "3.10.15"
  }
 },
 "nbformat": 4,
 "nbformat_minor": 2
}
