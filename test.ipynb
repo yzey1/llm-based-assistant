{
 "cells": [
  {
   "cell_type": "markdown",
   "metadata": {},
   "source": [
    "# Database Operation"
   ]
  },
  {
   "cell_type": "code",
   "execution_count": 1,
   "metadata": {},
   "outputs": [
    {
     "name": "stdout",
     "output_type": "stream",
     "text": [
      "mysql\n",
      "['memos', 'schedules']\n"
     ]
    }
   ],
   "source": [
    "from langchain_community.utilities import SQLDatabase\n",
    "\n",
    "# Define database connection parameters\n",
    "db_user = \"root\"\n",
    "db_password = \"q1w2e3r4\"\n",
    "db_host = \"localhost\"\n",
    "db_name = \"llm_asst\"\n",
    "\n",
    "# 数据库连接\n",
    "# db = SQLDatabase.from_uri(\"sqlite:///nba_roster.db\", sample_rows_in_table_info=0)\n",
    "db = SQLDatabase.from_uri(f\"mysql+pymysql://{db_user}:{db_password}@{db_host}/{db_name}\")\n",
    "\n",
    "print(db.dialect)\n",
    "print(db.get_usable_table_names())\n",
    "\n",
    "# 获取数据库架构信息的函数\n",
    "def get_schema(_):\n",
    "    return db.get_table_info()\n",
    "\n",
    "# 执行 SQL 查询的函数\n",
    "def run_query(query):\n",
    "    return db.run(query)\n"
   ]
  },
  {
   "cell_type": "code",
   "execution_count": 2,
   "metadata": {},
   "outputs": [
    {
     "name": "stdout",
     "output_type": "stream",
     "text": [
      "\n",
      "CREATE TABLE memos (\n",
      "\tid INTEGER NOT NULL AUTO_INCREMENT, \n",
      "\tmemo TEXT NOT NULL, \n",
      "\tcreated_at TIMESTAMP NULL DEFAULT CURRENT_TIMESTAMP, \n",
      "\tPRIMARY KEY (id)\n",
      ")DEFAULT CHARSET=utf8mb4 COLLATE utf8mb4_0900_ai_ci ENGINE=InnoDB\n",
      "\n",
      "/*\n",
      "3 rows from memos table:\n",
      "id\tmemo\tcreated_at\n",
      "1\tRemember to buy milk\t2024-10-19 16:18:35\n",
      "2\tPrepare materials for tomorrow's meeting\t2024-10-19 16:18:35\n",
      "3\tCall mom\t2024-10-19 16:18:35\n",
      "*/\n",
      "\n",
      "\n",
      "CREATE TABLE schedules (\n",
      "\tid INTEGER NOT NULL AUTO_INCREMENT, \n",
      "\tevent VARCHAR(255) NOT NULL, \n",
      "\tevent_date DATE NOT NULL, \n",
      "\tstart_time TIME, \n",
      "\tend_time TIME, \n",
      "\tdescription TEXT, \n",
      "\tPRIMARY KEY (id)\n",
      ")DEFAULT CHARSET=utf8mb4 COLLATE utf8mb4_0900_ai_ci ENGINE=InnoDB\n",
      "\n",
      "/*\n",
      "3 rows from schedules table:\n",
      "id\tevent\tevent_date\tstart_time\tend_time\tdescription\n",
      "1\tMeeting\t2024-01-10\t10:00:00\t11:00:00\tDiscuss project progress with the team\n",
      "2\tBirthday Party\t2024-02-05\t18:00:00\t21:00:00\tCelebrate a friend's birthday\n",
      "3\tGym\t2024-01-15\t07:00:00\t08:00:00\tMorning workout\n",
      "*/\n"
     ]
    }
   ],
   "source": [
    "# how to convert \\n in string print out\n",
    "schema_str = get_schema([\"schedules\"])\n",
    "print(schema_str)"
   ]
  },
  {
   "cell_type": "markdown",
   "metadata": {},
   "source": [
    "# Main Job"
   ]
  },
  {
   "cell_type": "code",
   "execution_count": 7,
   "metadata": {},
   "outputs": [],
   "source": [
    "# Update the template based on the SQL database type and schema (e.g., MySQL, Microsoft SQL Server, etc.)\n",
    "\n",
    "from langchain_core.prompts import ChatPromptTemplate\n",
    "from langchain_ollama.llms import OllamaLLM\n",
    "from langchain_core.output_parsers import StrOutputParser\n",
    "from langchain_core.runnables import RunnablePassthrough\n",
    "\n",
    "model = OllamaLLM(model=\"llama3.1\")\n",
    "\n",
    "template1 = \"\"\"\n",
    "    Based on the table schema below, write an MySQL query to answer the user's question:\n",
    "    {schema}\n",
    "    Question: {question}\n",
    "    SQL Query:\n",
    "\"\"\"\n",
    "\n",
    "prompt1 = ChatPromptTemplate.from_messages(\n",
    "    [\n",
    "        (\"system\", \"Given an input question, convert it to an SQL query. No preamble.\"),\n",
    "        (\"human\", template1),\n",
    "    ]\n",
    ")\n",
    "\n",
    "\n",
    "# Execute the SQL query and get the response\n",
    "\n",
    "sql_response = (\n",
    "    RunnablePassthrough.assign(schema=get_schema)\n",
    "    | prompt1\n",
    "    | model.bind(stop=[\"\\nSQLResult:\"])\n",
    "    | StrOutputParser()\n",
    ")\n",
    "\n",
    "\n",
    "response = sql_response.invoke({\"question\":\"What do I have planned for today?\"})"
   ]
  },
  {
   "cell_type": "code",
   "execution_count": 8,
   "metadata": {},
   "outputs": [
    {
     "data": {
      "text/plain": [
       "'SELECT event FROM schedules WHERE DATE(event_date) = CURDATE()'"
      ]
     },
     "execution_count": 8,
     "metadata": {},
     "output_type": "execute_result"
    }
   ],
   "source": [
    "response"
   ]
  },
  {
   "cell_type": "code",
   "execution_count": 3,
   "metadata": {},
   "outputs": [
    {
     "data": {
      "text/plain": [
       "'The birthday party is scheduled to take place on February 5th, 2024.'"
      ]
     },
     "execution_count": 3,
     "metadata": {},
     "output_type": "execute_result"
    }
   ],
   "source": [
    "\n",
    "template2 = \"\"\"\n",
    "    Based on the table schema, question, SQL query, and SQL response below, write a natural language answer:\n",
    "    {schema}\n",
    "\n",
    "    Question: {question}\n",
    "    SQL Query: {query}\n",
    "    SQL Response: {response}\n",
    "\"\"\"\n",
    "\n",
    "prompt2 = ChatPromptTemplate.from_messages(\n",
    "    [\n",
    "        (\n",
    "            \"system\",\n",
    "            \"Given a question and SQL response, convert it to a natural language answer. No preamble.\",\n",
    "        ),\n",
    "        (\"human\", template2),\n",
    "    ]\n",
    ")\n",
    "\n",
    "# Build the complete chain and call\n",
    "full_chain = (\n",
    "    RunnablePassthrough.assign(query=sql_response)\n",
    "    | RunnablePassthrough.assign(\n",
    "        schema=get_schema,\n",
    "        response=lambda x: db.run(x[\"query\"]),\n",
    "    )\n",
    "    | prompt2\n",
    "    | model\n",
    ")\n",
    "\n",
    "full_chain.invoke({\"question\": \"When is the birthday party?\"})"
   ]
  },
  {
   "cell_type": "code",
   "execution_count": 34,
   "metadata": {},
   "outputs": [
    {
     "name": "stderr",
     "output_type": "stream",
     "text": [
      "/Users/yzey/miniconda3/envs/llm-asst/lib/python3.10/site-packages/tqdm/auto.py:21: TqdmWarning: IProgress not found. Please update jupyter and ipywidgets. See https://ipywidgets.readthedocs.io/en/stable/user_install.html\n",
      "  from .autonotebook import tqdm as notebook_tqdm\n"
     ]
    },
    {
     "name": "stdout",
     "output_type": "stream",
     "text": [
      "* Running on local URL:  http://127.0.0.1:7860\n",
      "* Running on public URL: https://46014bff61ff12f9d2.gradio.live\n",
      "\n",
      "This share link expires in 72 hours. For free permanent hosting and GPU upgrades, run `gradio deploy` from the terminal in the working directory to deploy to Hugging Face Spaces (https://huggingface.co/spaces)\n"
     ]
    },
    {
     "data": {
      "text/html": [
       "<div><iframe src=\"https://46014bff61ff12f9d2.gradio.live\" width=\"100%\" height=\"500\" allow=\"autoplay; camera; microphone; clipboard-read; clipboard-write;\" frameborder=\"0\" allowfullscreen></iframe></div>"
      ],
      "text/plain": [
       "<IPython.core.display.HTML object>"
      ]
     },
     "metadata": {},
     "output_type": "display_data"
    },
    {
     "data": {
      "text/plain": []
     },
     "execution_count": 34,
     "metadata": {},
     "output_type": "execute_result"
    },
    {
     "name": "stderr",
     "output_type": "stream",
     "text": [
      "Traceback (most recent call last):\n",
      "  File \"/Users/yzey/miniconda3/envs/llm-asst/lib/python3.10/site-packages/sqlalchemy/engine/base.py\", line 1967, in _exec_single_context\n",
      "    self.dialect.do_execute(\n",
      "  File \"/Users/yzey/miniconda3/envs/llm-asst/lib/python3.10/site-packages/sqlalchemy/engine/default.py\", line 941, in do_execute\n",
      "    cursor.execute(statement, parameters)\n",
      "  File \"/Users/yzey/miniconda3/envs/llm-asst/lib/python3.10/site-packages/pymysql/cursors.py\", line 153, in execute\n",
      "    result = self._query(query)\n",
      "  File \"/Users/yzey/miniconda3/envs/llm-asst/lib/python3.10/site-packages/pymysql/cursors.py\", line 322, in _query\n",
      "    conn.query(q)\n",
      "  File \"/Users/yzey/miniconda3/envs/llm-asst/lib/python3.10/site-packages/pymysql/connections.py\", line 563, in query\n",
      "    self._affected_rows = self._read_query_result(unbuffered=unbuffered)\n",
      "  File \"/Users/yzey/miniconda3/envs/llm-asst/lib/python3.10/site-packages/pymysql/connections.py\", line 825, in _read_query_result\n",
      "    result.read()\n",
      "  File \"/Users/yzey/miniconda3/envs/llm-asst/lib/python3.10/site-packages/pymysql/connections.py\", line 1199, in read\n",
      "    first_packet = self.connection._read_packet()\n",
      "  File \"/Users/yzey/miniconda3/envs/llm-asst/lib/python3.10/site-packages/pymysql/connections.py\", line 775, in _read_packet\n",
      "    packet.raise_for_error()\n",
      "  File \"/Users/yzey/miniconda3/envs/llm-asst/lib/python3.10/site-packages/pymysql/protocol.py\", line 219, in raise_for_error\n",
      "    err.raise_mysql_exception(self._data)\n",
      "  File \"/Users/yzey/miniconda3/envs/llm-asst/lib/python3.10/site-packages/pymysql/err.py\", line 150, in raise_mysql_exception\n",
      "    raise errorclass(errno, errval)\n",
      "pymysql.err.OperationalError: (1054, \"Unknown column 'TIME' in 'field list'\")\n",
      "\n",
      "The above exception was the direct cause of the following exception:\n",
      "\n",
      "Traceback (most recent call last):\n",
      "  File \"/Users/yzey/miniconda3/envs/llm-asst/lib/python3.10/site-packages/gradio/queueing.py\", line 622, in process_events\n",
      "    response = await route_utils.call_process_api(\n",
      "  File \"/Users/yzey/miniconda3/envs/llm-asst/lib/python3.10/site-packages/gradio/route_utils.py\", line 323, in call_process_api\n",
      "    output = await app.get_blocks().process_api(\n",
      "  File \"/Users/yzey/miniconda3/envs/llm-asst/lib/python3.10/site-packages/gradio/blocks.py\", line 2014, in process_api\n",
      "    result = await self.call_function(\n",
      "  File \"/Users/yzey/miniconda3/envs/llm-asst/lib/python3.10/site-packages/gradio/blocks.py\", line 1565, in call_function\n",
      "    prediction = await fn(*processed_input)\n",
      "  File \"/Users/yzey/miniconda3/envs/llm-asst/lib/python3.10/site-packages/gradio/utils.py\", line 813, in async_wrapper\n",
      "    response = await f(*args, **kwargs)\n",
      "  File \"/Users/yzey/miniconda3/envs/llm-asst/lib/python3.10/site-packages/gradio/chat_interface.py\", line 638, in _submit_fn\n",
      "    response = await anyio.to_thread.run_sync(\n",
      "  File \"/Users/yzey/miniconda3/envs/llm-asst/lib/python3.10/site-packages/anyio/to_thread.py\", line 56, in run_sync\n",
      "    return await get_async_backend().run_sync_in_worker_thread(\n",
      "  File \"/Users/yzey/miniconda3/envs/llm-asst/lib/python3.10/site-packages/anyio/_backends/_asyncio.py\", line 2441, in run_sync_in_worker_thread\n",
      "    return await future\n",
      "  File \"/Users/yzey/miniconda3/envs/llm-asst/lib/python3.10/site-packages/anyio/_backends/_asyncio.py\", line 943, in run\n",
      "    result = context.run(func, *args)\n",
      "  File \"/var/folders/gl/bjvjzmt13dzgvftlrd57gnv40000gn/T/ipykernel_83349/484855779.py\", line 6, in chat\n",
      "    response = full_chain.invoke({\"question\": message})\n",
      "  File \"/Users/yzey/miniconda3/envs/llm-asst/lib/python3.10/site-packages/langchain_core/runnables/base.py\", line 3024, in invoke\n",
      "    input = context.run(step.invoke, input, config)\n",
      "  File \"/Users/yzey/miniconda3/envs/llm-asst/lib/python3.10/site-packages/langchain_core/runnables/passthrough.py\", line 494, in invoke\n",
      "    return self._call_with_config(self._invoke, input, config, **kwargs)\n",
      "  File \"/Users/yzey/miniconda3/envs/llm-asst/lib/python3.10/site-packages/langchain_core/runnables/base.py\", line 1927, in _call_with_config\n",
      "    context.run(\n",
      "  File \"/Users/yzey/miniconda3/envs/llm-asst/lib/python3.10/site-packages/langchain_core/runnables/config.py\", line 396, in call_func_with_variable_args\n",
      "    return func(input, **kwargs)  # type: ignore[call-arg]\n",
      "  File \"/Users/yzey/miniconda3/envs/llm-asst/lib/python3.10/site-packages/langchain_core/runnables/passthrough.py\", line 481, in _invoke\n",
      "    **self.mapper.invoke(\n",
      "  File \"/Users/yzey/miniconda3/envs/llm-asst/lib/python3.10/site-packages/langchain_core/runnables/base.py\", line 3727, in invoke\n",
      "    output = {key: future.result() for key, future in zip(steps, futures)}\n",
      "  File \"/Users/yzey/miniconda3/envs/llm-asst/lib/python3.10/site-packages/langchain_core/runnables/base.py\", line 3727, in <dictcomp>\n",
      "    output = {key: future.result() for key, future in zip(steps, futures)}\n",
      "  File \"/Users/yzey/miniconda3/envs/llm-asst/lib/python3.10/concurrent/futures/_base.py\", line 451, in result\n",
      "    return self.__get_result()\n",
      "  File \"/Users/yzey/miniconda3/envs/llm-asst/lib/python3.10/concurrent/futures/_base.py\", line 403, in __get_result\n",
      "    raise self._exception\n",
      "  File \"/Users/yzey/miniconda3/envs/llm-asst/lib/python3.10/concurrent/futures/thread.py\", line 58, in run\n",
      "    result = self.fn(*self.args, **self.kwargs)\n",
      "  File \"/Users/yzey/miniconda3/envs/llm-asst/lib/python3.10/site-packages/langchain_core/runnables/base.py\", line 3711, in _invoke_step\n",
      "    return context.run(\n",
      "  File \"/Users/yzey/miniconda3/envs/llm-asst/lib/python3.10/site-packages/langchain_core/runnables/base.py\", line 4713, in invoke\n",
      "    return self._call_with_config(\n",
      "  File \"/Users/yzey/miniconda3/envs/llm-asst/lib/python3.10/site-packages/langchain_core/runnables/base.py\", line 1927, in _call_with_config\n",
      "    context.run(\n",
      "  File \"/Users/yzey/miniconda3/envs/llm-asst/lib/python3.10/site-packages/langchain_core/runnables/config.py\", line 396, in call_func_with_variable_args\n",
      "    return func(input, **kwargs)  # type: ignore[call-arg]\n",
      "  File \"/Users/yzey/miniconda3/envs/llm-asst/lib/python3.10/site-packages/langchain_core/runnables/base.py\", line 4567, in _invoke\n",
      "    output = call_func_with_variable_args(\n",
      "  File \"/Users/yzey/miniconda3/envs/llm-asst/lib/python3.10/site-packages/langchain_core/runnables/config.py\", line 396, in call_func_with_variable_args\n",
      "    return func(input, **kwargs)  # type: ignore[call-arg]\n",
      "  File \"/var/folders/gl/bjvjzmt13dzgvftlrd57gnv40000gn/T/ipykernel_83349/1877677058.py\", line 58, in <lambda>\n",
      "    response=lambda x: db.run(x[\"query\"]),\n",
      "  File \"/Users/yzey/miniconda3/envs/llm-asst/lib/python3.10/site-packages/langchain_community/utilities/sql_database.py\", line 502, in run\n",
      "    result = self._execute(\n",
      "  File \"/Users/yzey/miniconda3/envs/llm-asst/lib/python3.10/site-packages/langchain_community/utilities/sql_database.py\", line 467, in _execute\n",
      "    cursor = connection.execute(\n",
      "  File \"/Users/yzey/miniconda3/envs/llm-asst/lib/python3.10/site-packages/sqlalchemy/engine/base.py\", line 1418, in execute\n",
      "    return meth(\n",
      "  File \"/Users/yzey/miniconda3/envs/llm-asst/lib/python3.10/site-packages/sqlalchemy/sql/elements.py\", line 515, in _execute_on_connection\n",
      "    return connection._execute_clauseelement(\n",
      "  File \"/Users/yzey/miniconda3/envs/llm-asst/lib/python3.10/site-packages/sqlalchemy/engine/base.py\", line 1640, in _execute_clauseelement\n",
      "    ret = self._execute_context(\n",
      "  File \"/Users/yzey/miniconda3/envs/llm-asst/lib/python3.10/site-packages/sqlalchemy/engine/base.py\", line 1846, in _execute_context\n",
      "    return self._exec_single_context(\n",
      "  File \"/Users/yzey/miniconda3/envs/llm-asst/lib/python3.10/site-packages/sqlalchemy/engine/base.py\", line 1986, in _exec_single_context\n",
      "    self._handle_dbapi_exception(\n",
      "  File \"/Users/yzey/miniconda3/envs/llm-asst/lib/python3.10/site-packages/sqlalchemy/engine/base.py\", line 2355, in _handle_dbapi_exception\n",
      "    raise sqlalchemy_exception.with_traceback(exc_info[2]) from e\n",
      "  File \"/Users/yzey/miniconda3/envs/llm-asst/lib/python3.10/site-packages/sqlalchemy/engine/base.py\", line 1967, in _exec_single_context\n",
      "    self.dialect.do_execute(\n",
      "  File \"/Users/yzey/miniconda3/envs/llm-asst/lib/python3.10/site-packages/sqlalchemy/engine/default.py\", line 941, in do_execute\n",
      "    cursor.execute(statement, parameters)\n",
      "  File \"/Users/yzey/miniconda3/envs/llm-asst/lib/python3.10/site-packages/pymysql/cursors.py\", line 153, in execute\n",
      "    result = self._query(query)\n",
      "  File \"/Users/yzey/miniconda3/envs/llm-asst/lib/python3.10/site-packages/pymysql/cursors.py\", line 322, in _query\n",
      "    conn.query(q)\n",
      "  File \"/Users/yzey/miniconda3/envs/llm-asst/lib/python3.10/site-packages/pymysql/connections.py\", line 563, in query\n",
      "    self._affected_rows = self._read_query_result(unbuffered=unbuffered)\n",
      "  File \"/Users/yzey/miniconda3/envs/llm-asst/lib/python3.10/site-packages/pymysql/connections.py\", line 825, in _read_query_result\n",
      "    result.read()\n",
      "  File \"/Users/yzey/miniconda3/envs/llm-asst/lib/python3.10/site-packages/pymysql/connections.py\", line 1199, in read\n",
      "    first_packet = self.connection._read_packet()\n",
      "  File \"/Users/yzey/miniconda3/envs/llm-asst/lib/python3.10/site-packages/pymysql/connections.py\", line 775, in _read_packet\n",
      "    packet.raise_for_error()\n",
      "  File \"/Users/yzey/miniconda3/envs/llm-asst/lib/python3.10/site-packages/pymysql/protocol.py\", line 219, in raise_for_error\n",
      "    err.raise_mysql_exception(self._data)\n",
      "  File \"/Users/yzey/miniconda3/envs/llm-asst/lib/python3.10/site-packages/pymysql/err.py\", line 150, in raise_mysql_exception\n",
      "    raise errorclass(errno, errval)\n",
      "sqlalchemy.exc.OperationalError: (pymysql.err.OperationalError) (1054, \"Unknown column 'TIME' in 'field list'\")\n",
      "[SQL: SELECT TIME FROM schedules;]\n",
      "(Background on this error at: https://sqlalche.me/e/20/e3q8)\n"
     ]
    }
   ],
   "source": [
    "# gradio for web interface(multi-turn conversation)\n",
    "\n",
    "import gradio as gr\n",
    "\n",
    "def chat(message, history):\n",
    "    response = full_chain.invoke({\"question\": message})\n",
    "    return response\n",
    "\n",
    "# chatbot = gr.Chatbot(height=300)\n",
    "iface = gr.ChatInterface(fn=chat,\n",
    "                         type=\"messages\")\n",
    "\n",
    "iface.launch(share=True)"
   ]
  },
  {
   "cell_type": "code",
   "execution_count": null,
   "metadata": {},
   "outputs": [],
   "source": []
  }
 ],
 "metadata": {
  "kernelspec": {
   "display_name": "llm-asst",
   "language": "python",
   "name": "python3"
  },
  "language_info": {
   "codemirror_mode": {
    "name": "ipython",
    "version": 3
   },
   "file_extension": ".py",
   "mimetype": "text/x-python",
   "name": "python",
   "nbconvert_exporter": "python",
   "pygments_lexer": "ipython3",
   "version": "3.10.15"
  }
 },
 "nbformat": 4,
 "nbformat_minor": 2
}
